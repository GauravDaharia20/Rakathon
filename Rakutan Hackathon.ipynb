{
 "cells": [
  {
   "cell_type": "code",
   "execution_count": 12,
   "metadata": {},
   "outputs": [],
   "source": [
    "import cv2\n",
    "import os\n",
    "import numpy as np\n",
    "import face_recognition"
   ]
  },
  {
   "cell_type": "markdown",
   "metadata": {},
   "source": [
    "# Fetching the files from backend"
   ]
  },
  {
   "cell_type": "code",
   "execution_count": 13,
   "metadata": {},
   "outputs": [],
   "source": [
    "uids = 'E:\\\\Opencv\\\\Face_Security_Check\\\\user_id.txt'\n",
    "face_check='E:\\\\Opencv\\\\Face_Security_Check\\\\Face_check'"
   ]
  },
  {
   "cell_type": "code",
   "execution_count": 14,
   "metadata": {},
   "outputs": [
    {
     "name": "stdout",
     "output_type": "stream",
     "text": [
      "['1121', '1123']\n"
     ]
    }
   ],
   "source": [
    "with open(uids) as f:\n",
    "    l = f.read().split(' ')\n",
    "list_of_ids=l\n",
    "print(list_of_ids)"
   ]
  },
  {
   "cell_type": "markdown",
   "metadata": {},
   "source": [
    "# creating directory so that we can read images and to process the images"
   ]
  },
  {
   "cell_type": "code",
   "execution_count": 15,
   "metadata": {},
   "outputs": [],
   "source": [
    "main_img_path_list=[]\n",
    "test_img_path_list=[]\n",
    "face_list = os.listdir(face_check)\n",
    "#print(face_list)\n",
    "for i in face_list:\n",
    "    x = face_check+'\\\\'+i\n",
    "    #print(x)\n",
    "    ls = os.listdir(x)\n",
    "    #print(ls)\n",
    "    y=x+'\\\\'+ls[0]\n",
    "    t = x+'\\\\'+ls[1]\n",
    "    #print(y)\n",
    "    main_img_path_list.append(y)\n",
    "    test_img_path_list.append(t)"
   ]
  },
  {
   "cell_type": "code",
   "execution_count": 16,
   "metadata": {},
   "outputs": [],
   "source": [
    "directory_main={}\n",
    "directory_test={}\n",
    "for i,j in zip(list_of_ids,main_img_path_list):\n",
    "    directory_main[i]=j\n",
    "\n",
    "    \n",
    "for i,j in zip(list_of_ids,test_img_path_list):\n",
    "    directory_test[i]=j    "
   ]
  },
  {
   "cell_type": "markdown",
   "metadata": {},
   "source": [
    "# Small glimps of directory"
   ]
  },
  {
   "cell_type": "code",
   "execution_count": 17,
   "metadata": {},
   "outputs": [
    {
     "name": "stdout",
     "output_type": "stream",
     "text": [
      "{'1121': 'E:\\\\Opencv\\\\Face_Security_Check\\\\Face_check\\\\1121\\\\dk_main_1121.JPG', '1123': 'E:\\\\Opencv\\\\Face_Security_Check\\\\Face_check\\\\1123\\\\Gaurav_main_1123.jpg'}\n",
      "\n",
      "\n",
      "{'1121': 'E:\\\\Opencv\\\\Face_Security_Check\\\\Face_check\\\\1121\\\\test', '1123': 'E:\\\\Opencv\\\\Face_Security_Check\\\\Face_check\\\\1123\\\\test'}\n"
     ]
    }
   ],
   "source": [
    "print(directory_main)\n",
    "print('\\n')\n",
    "print(directory_test)"
   ]
  },
  {
   "cell_type": "markdown",
   "metadata": {},
   "source": [
    "# Asking the user to enter the uid to proceed the transaction"
   ]
  },
  {
   "cell_type": "code",
   "execution_count": 18,
   "metadata": {},
   "outputs": [],
   "source": [
    "savepoint = None"
   ]
  },
  {
   "cell_type": "code",
   "execution_count": 19,
   "metadata": {},
   "outputs": [
    {
     "name": "stdout",
     "output_type": "stream",
     "text": [
      "enter your uid for intial transaction\n",
      "1123\n"
     ]
    }
   ],
   "source": [
    "print('enter your uid for intial transaction')\n",
    "x=str(input())\n",
    "ans=False\n",
    "main_path,test_path=None,None\n",
    "if(x in list_of_ids ):\n",
    "    ans=True\n",
    "    savepoint=x\n",
    "else:\n",
    "    ans=False\n",
    "\n",
    "if(ans==True):\n",
    "    main_path = directory_main[x]\n",
    "else:\n",
    "    print('not registered')"
   ]
  },
  {
   "cell_type": "code",
   "execution_count": 20,
   "metadata": {},
   "outputs": [
    {
     "data": {
      "text/plain": [
       "'1123'"
      ]
     },
     "execution_count": 20,
     "metadata": {},
     "output_type": "execute_result"
    }
   ],
   "source": [
    "savepoint"
   ]
  },
  {
   "cell_type": "markdown",
   "metadata": {},
   "source": [
    "# Below code will calculate similarity of face with backend saved face if it match then it will ask you to proceed furture."
   ]
  },
  {
   "cell_type": "code",
   "execution_count": 21,
   "metadata": {},
   "outputs": [],
   "source": [
    "import cv2\n",
    "cap = cv2.VideoCapture(0)\n",
    "cap.set(3,640) #width=640\n",
    "cap.set(4,480) #height=480\n",
    "\n",
    "if cap.isOpened():\n",
    "    _,frame = cap.read()\n",
    "    cap.release() #releasing camera immediately after capturing picture\n",
    "    if _ and frame is not None:\n",
    "        cv2.imwrite('E:\\\\Opencv\\\\Face_Security_Check\\\\Face_check\\\\'+savepoint+'\\\\test\\\\test.jpg', frame)\n",
    "        #cv2.imwrite(name, frame)"
   ]
  },
  {
   "cell_type": "code",
   "execution_count": 23,
   "metadata": {},
   "outputs": [
    {
     "name": "stdout",
     "output_type": "stream",
     "text": [
      "you may proceed\n"
     ]
    }
   ],
   "source": [
    "test_path = 'E:\\\\Opencv\\\\Face_Security_Check\\\\Face_check\\\\'+savepoint+'\\\\test\\\\test.jpg'\n",
    "main_img = face_recognition.load_image_file(main_path)\n",
    "main_img = cv2.resize(main_img,(800,500))\n",
    "main_img = cv2.cvtColor(main_img,cv2.COLOR_BGR2RGB)\n",
    "\n",
    "test_img = face_recognition.load_image_file(test_path)\n",
    "test_img = cv2.resize(test_img,(800,500))\n",
    "#test_img = cv2.rotate(test_img,rotateCode=cv2.cv2.ROTATE_90_CLOCKWISE)\n",
    "test_img = cv2.cvtColor(test_img,cv2.COLOR_BGR2RGB)\n",
    "\n",
    "face_loc = face_recognition.face_locations(main_img)[0]\n",
    "encode_main = face_recognition.face_encodings(main_img)[0]\n",
    "cv2.rectangle(main_img,(face_loc[3],face_loc[0]),(face_loc[1],face_loc[2]),(255,0,255),2)\n",
    "\n",
    "face_loc_t = face_recognition.face_locations(test_img)[0]\n",
    "encode_test = face_recognition.face_encodings(test_img)[0]\n",
    "cv2.rectangle(test_img,(face_loc_t[3],face_loc_t[0]),(face_loc_t[1],face_loc_t[2]),(255,0,255),2)\n",
    "\n",
    "results = face_recognition.compare_faces([encode_main],encode_test)\n",
    "\n",
    "facedis = face_recognition.face_distance([encode_main],encode_test)\n",
    "\n",
    "ans = results[0]\n",
    "\n",
    "if(ans == True):\n",
    "    print(\"you may proceed\")\n",
    "else:\n",
    "    print(\"Not allowed try again\")\n",
    "#print(facedis)\n",
    "cv2.imshow('main_img',main_img)\n",
    "cv2.imshow('test_img',test_img)\n",
    "cv2.waitKey(0)\n",
    "cv2.destroyAllWindows()"
   ]
  },
  {
   "cell_type": "code",
   "execution_count": null,
   "metadata": {},
   "outputs": [],
   "source": []
  }
 ],
 "metadata": {
  "kernelspec": {
   "display_name": "Python 3.7 (tensorflow)",
   "language": "python",
   "name": "tf_gpu"
  },
  "language_info": {
   "codemirror_mode": {
    "name": "ipython",
    "version": 3
   },
   "file_extension": ".py",
   "mimetype": "text/x-python",
   "name": "python",
   "nbconvert_exporter": "python",
   "pygments_lexer": "ipython3",
   "version": "3.7.9"
  }
 },
 "nbformat": 4,
 "nbformat_minor": 4
}
